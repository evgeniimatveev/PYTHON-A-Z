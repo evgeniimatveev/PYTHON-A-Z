{
 "cells": [
  {
   "cell_type": "code",
   "execution_count": 1,
   "id": "baca2f79",
   "metadata": {},
   "outputs": [],
   "source": [
    "#---- -2 ---- -1 ---- 0 ---- 1 ---- 2 ----"
   ]
  },
  {
   "cell_type": "code",
   "execution_count": 2,
   "id": "65627f25",
   "metadata": {},
   "outputs": [],
   "source": [
    "import numpy  as np\n",
    "from numpy.random import randn"
   ]
  },
  {
   "cell_type": "code",
   "execution_count": 50,
   "id": "f39263c2",
   "metadata": {},
   "outputs": [
    {
     "data": {
      "text/plain": [
       "-0.6143948099042633"
      ]
     },
     "execution_count": 50,
     "metadata": {},
     "output_type": "execute_result"
    }
   ],
   "source": [
    "randn()"
   ]
  },
  {
   "cell_type": "code",
   "execution_count": 56,
   "id": "ee2aa45d",
   "metadata": {},
   "outputs": [
    {
     "data": {
      "text/plain": [
       "1.1314364934201242"
      ]
     },
     "execution_count": 56,
     "metadata": {},
     "output_type": "execute_result"
    }
   ],
   "source": [
    "randn()"
   ]
  },
  {
   "cell_type": "code",
   "execution_count": 114,
   "id": "7ae83831",
   "metadata": {},
   "outputs": [
    {
     "name": "stdout",
     "output_type": "stream",
     "text": [
      "-0.10663572550788937\n",
      "None\n"
     ]
    }
   ],
   "source": [
    "#---- -2 ---- -1 ---- 0 ---- 1 ---- 2 ----\n",
    "# IF Statement\n",
    "answer = None\n",
    "x = randn()\n",
    "if x > 1 : \n",
    "    answer = \"Greater that one \"\n",
    "print(x)\n",
    "print(answer)"
   ]
  },
  {
   "cell_type": "code",
   "execution_count": 145,
   "id": "c8a9f1d3",
   "metadata": {},
   "outputs": [
    {
     "name": "stdout",
     "output_type": "stream",
     "text": [
      "0.7983242426750616\n",
      "Less than 1\n"
     ]
    }
   ],
   "source": [
    "#---- -2 ---- -1 ---- 0 ---- 1 ---- 2 ----\n",
    "# IF + Else Statements \n",
    "answer = None\n",
    "x = randn()\n",
    "if x > 1 : \n",
    "    answer = \"Greater that one \"\n",
    "else :\n",
    "    answer = \"Less than 1\"\n",
    "print(x)\n",
    "print(answer)"
   ]
  },
  {
   "cell_type": "code",
   "execution_count": 160,
   "id": "3163b871",
   "metadata": {},
   "outputs": [
    {
     "name": "stdout",
     "output_type": "stream",
     "text": [
      "0.09301897517260271\n",
      "between -1 and 1\n"
     ]
    }
   ],
   "source": [
    "#---- -2 ---- -1 ---- 0 ---- 1 ---- 2 ----\n",
    "# Nested Statements\n",
    "answer = None\n",
    "x = randn()\n",
    "if x > 1 : \n",
    "    answer = \"Greater that one \"\n",
    "else :\n",
    "    if x  >= -1 :\n",
    "        answer = \"between -1 and 1\"\n",
    "    else :\n",
    "            answer = \"less than -1\"\n",
    "print(x)\n",
    "print(answer)"
   ]
  },
  {
   "cell_type": "code",
   "execution_count": 168,
   "id": "fb0d1bb2",
   "metadata": {},
   "outputs": [
    {
     "name": "stdout",
     "output_type": "stream",
     "text": [
      "0.6219930878350722\n",
      "between -1 and 1\n"
     ]
    }
   ],
   "source": [
    "#---- -2 ---- -1 ---- 0 ---- 1 ---- 2 ----\n",
    "# Chained Statements\n",
    "answer = None\n",
    "x = randn()\n",
    "if x > 1 : \n",
    "    answer = \"Greater that one \"\n",
    "elif x  >= -1 :\n",
    "    answer = \"between -1 and 1\"\n",
    "else :\n",
    "    answer = \"less than -1\"\n",
    "print(x)\n",
    "print(answer)"
   ]
  }
 ],
 "metadata": {
  "kernelspec": {
   "display_name": "Python 3 (ipykernel)",
   "language": "python",
   "name": "python3"
  },
  "language_info": {
   "codemirror_mode": {
    "name": "ipython",
    "version": 3
   },
   "file_extension": ".py",
   "mimetype": "text/x-python",
   "name": "python",
   "nbconvert_exporter": "python",
   "pygments_lexer": "ipython3",
   "version": "3.11.5"
  }
 },
 "nbformat": 4,
 "nbformat_minor": 5
}
